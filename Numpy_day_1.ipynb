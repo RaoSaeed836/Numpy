{
  "nbformat": 4,
  "nbformat_minor": 0,
  "metadata": {
    "colab": {
      "provenance": [],
      "authorship_tag": "ABX9TyNm7zuR9ZVvlqa+KT7YMX8m",
      "include_colab_link": true
    },
    "kernelspec": {
      "name": "python3",
      "display_name": "Python 3"
    },
    "language_info": {
      "name": "python"
    }
  },
  "cells": [
    {
      "cell_type": "markdown",
      "metadata": {
        "id": "view-in-github",
        "colab_type": "text"
      },
      "source": [
        "<a href=\"https://colab.research.google.com/github/RaoSaeed836/Numpy/blob/main/Numpy_day_1.ipynb\" target=\"_parent\"><img src=\"https://colab.research.google.com/assets/colab-badge.svg\" alt=\"Open In Colab\"/></a>"
      ]
    },
    {
      "cell_type": "code",
      "execution_count": 1,
      "metadata": {
        "id": "MgAOFmzNlT8L"
      },
      "outputs": [],
      "source": [
        "# #numpy aik mathmatical library ha or as ma sb sa main chez ha wo ha aik array object\n",
        "# E jesy python ka data type th alist asy he numpy ka data type ha aik jes ko ap numpy array khty h"
      ]
    },
    {
      "cell_type": "code",
      "source": [
        "# vector\n",
        "import numpy as np\n",
        "a=np.array([1,2,3])\n",
        "print(a)\n",
        "print(type(a))"
      ],
      "metadata": {
        "colab": {
          "base_uri": "https://localhost:8080/"
        },
        "id": "y6_nxmSVmU2b",
        "outputId": "a1a8339f-07a2-4b3d-9ee2-7afd88519281"
      },
      "execution_count": 2,
      "outputs": [
        {
          "output_type": "stream",
          "name": "stdout",
          "text": [
            "[1 2 3]\n",
            "<class 'numpy.ndarray'>\n"
          ]
        }
      ]
    },
    {
      "cell_type": "code",
      "source": [
        "#2d and #3d nump array\n",
        "# metrics\n",
        "np.array([[1,2,3,4],[5,6,7,9]])"
      ],
      "metadata": {
        "colab": {
          "base_uri": "https://localhost:8080/"
        },
        "id": "i6LEyKFVmUz0",
        "outputId": "05600423-599e-44c7-9124-be6854cda947"
      },
      "execution_count": 3,
      "outputs": [
        {
          "output_type": "execute_result",
          "data": {
            "text/plain": [
              "array([[1, 2, 3, 4],\n",
              "       [5, 6, 7, 9]])"
            ]
          },
          "metadata": {},
          "execution_count": 3
        }
      ]
    },
    {
      "cell_type": "code",
      "source": [
        "#tensor\n",
        "c=np.array([[[1,2,3],[4,5,6],[7,8,9]]])\n",
        "print(c)"
      ],
      "metadata": {
        "colab": {
          "base_uri": "https://localhost:8080/"
        },
        "id": "-2JpFyo6mUxU",
        "outputId": "14238402-e8d7-4277-8ba4-63e4f29071b3"
      },
      "execution_count": 4,
      "outputs": [
        {
          "output_type": "stream",
          "name": "stdout",
          "text": [
            "[[[1 2 3]\n",
            "  [4 5 6]\n",
            "  [7 8 9]]]\n"
          ]
        }
      ]
    },
    {
      "cell_type": "code",
      "source": [
        "# apny pasand ka data type bna skty ho\n",
        "# np.array([1,2,3],dtype=float)\n",
        "np.array([1,2,3,0],dtype=bool)"
      ],
      "metadata": {
        "colab": {
          "base_uri": "https://localhost:8080/"
        },
        "id": "PAvuMIMOmUuT",
        "outputId": "b84eb2f0-9281-4fb0-d831-6e6fcc523273"
      },
      "execution_count": 5,
      "outputs": [
        {
          "output_type": "execute_result",
          "data": {
            "text/plain": [
              "array([ True,  True,  True, False])"
            ]
          },
          "metadata": {},
          "execution_count": 5
        }
      ]
    },
    {
      "cell_type": "code",
      "source": [
        "# np.arange\n",
        "np.arange(1,11)\n",
        "np.arange(1,11,2)"
      ],
      "metadata": {
        "colab": {
          "base_uri": "https://localhost:8080/"
        },
        "id": "PHSNUFcVmUrj",
        "outputId": "64249296-a9b8-40a3-fc39-8a488d3800d3"
      },
      "execution_count": 6,
      "outputs": [
        {
          "output_type": "execute_result",
          "data": {
            "text/plain": [
              "array([1, 3, 5, 7, 9])"
            ]
          },
          "metadata": {},
          "execution_count": 6
        }
      ]
    },
    {
      "cell_type": "code",
      "source": [
        "# with reshape\n",
        "np.arange(1,13).reshape(4,3)"
      ],
      "metadata": {
        "colab": {
          "base_uri": "https://localhost:8080/"
        },
        "id": "iEdvutw3mUor",
        "outputId": "f4c2858c-2d04-4ea4-81cd-a9d984fd5f7d"
      },
      "execution_count": 7,
      "outputs": [
        {
          "output_type": "execute_result",
          "data": {
            "text/plain": [
              "array([[ 1,  2,  3],\n",
              "       [ 4,  5,  6],\n",
              "       [ 7,  8,  9],\n",
              "       [10, 11, 12]])"
            ]
          },
          "metadata": {},
          "execution_count": 7
        }
      ]
    },
    {
      "cell_type": "code",
      "source": [
        "#np.ones and np.zeros\n",
        "# values ko initliaze krny ka kam aty ha dono\n",
        "np.ones((3,4))\n",
        "np.zeros((3,4))"
      ],
      "metadata": {
        "colab": {
          "base_uri": "https://localhost:8080/"
        },
        "id": "ixR7frlHmUlv",
        "outputId": "74c9515c-3a31-422a-acb7-5dbfccaef821"
      },
      "execution_count": 8,
      "outputs": [
        {
          "output_type": "execute_result",
          "data": {
            "text/plain": [
              "array([[0., 0., 0., 0.],\n",
              "       [0., 0., 0., 0.],\n",
              "       [0., 0., 0., 0.]])"
            ]
          },
          "metadata": {},
          "execution_count": 8
        }
      ]
    },
    {
      "cell_type": "code",
      "source": [
        "# random\n",
        "# random value sa intiliaze krta ha\n",
        "np.random.random((3,5))"
      ],
      "metadata": {
        "colab": {
          "base_uri": "https://localhost:8080/"
        },
        "id": "STbwy5ERmUjX",
        "outputId": "c6b8fd9b-d43c-4875-a11b-dcd5dcb5667b"
      },
      "execution_count": 9,
      "outputs": [
        {
          "output_type": "execute_result",
          "data": {
            "text/plain": [
              "array([[0.71994161, 0.00761403, 0.33558377, 0.91332449, 0.52122752],\n",
              "       [0.23804342, 0.39517278, 0.31202463, 0.63507584, 0.57012502],\n",
              "       [0.55373376, 0.99706381, 0.08329231, 0.05294381, 0.86892487]])"
            ]
          },
          "metadata": {},
          "execution_count": 9
        }
      ]
    },
    {
      "cell_type": "code",
      "source": [
        "#linspace\n",
        "#aik given range ma equal distance pr point gerntae kr ka deta ha\n",
        "np.linspace(-34,34,10)\n",
        "np.linspace(-34,34,10,dtype=int)"
      ],
      "metadata": {
        "colab": {
          "base_uri": "https://localhost:8080/"
        },
        "id": "xmTLwYsSqGe5",
        "outputId": "35ea9e27-050b-4138-d365-31612d4f9808"
      },
      "execution_count": 10,
      "outputs": [
        {
          "output_type": "execute_result",
          "data": {
            "text/plain": [
              "array([-34, -27, -19, -12,  -4,   3,  11,  18,  26,  34])"
            ]
          },
          "metadata": {},
          "execution_count": 10
        }
      ]
    },
    {
      "cell_type": "code",
      "source": [
        "#np.identity\n",
        "np.identity(3)"
      ],
      "metadata": {
        "colab": {
          "base_uri": "https://localhost:8080/"
        },
        "id": "C0wqMmGHqgNw",
        "outputId": "f7beb223-05eb-484f-9cbd-41a251588a59"
      },
      "execution_count": 11,
      "outputs": [
        {
          "output_type": "execute_result",
          "data": {
            "text/plain": [
              "array([[1., 0., 0.],\n",
              "       [0., 1., 0.],\n",
              "       [0., 0., 1.]])"
            ]
          },
          "metadata": {},
          "execution_count": 11
        }
      ]
    },
    {
      "cell_type": "markdown",
      "source": [
        "###Array ATRIBUTES"
      ],
      "metadata": {
        "id": "8zdvgwiJrlL5"
      }
    },
    {
      "cell_type": "code",
      "source": [
        "a=np.arange(10)\n",
        "b=np.arange(12,dtype=float).reshape(3,4)\n",
        "c=np.arange(8).reshape(2,2,2)\n",
        "print(a)\n",
        "print(b)\n",
        "print(c)"
      ],
      "metadata": {
        "colab": {
          "base_uri": "https://localhost:8080/"
        },
        "id": "xiRp6TmMqgLh",
        "outputId": "68f46575-29f0-433a-8cb1-99e6c6146580"
      },
      "execution_count": 12,
      "outputs": [
        {
          "output_type": "stream",
          "name": "stdout",
          "text": [
            "[0 1 2 3 4 5 6 7 8 9]\n",
            "[[ 0.  1.  2.  3.]\n",
            " [ 4.  5.  6.  7.]\n",
            " [ 8.  9. 10. 11.]]\n",
            "[[[0 1]\n",
            "  [2 3]]\n",
            "\n",
            " [[4 5]\n",
            "  [6 7]]]\n"
          ]
        }
      ]
    },
    {
      "cell_type": "code",
      "source": [
        "#ndim\n",
        "# tell use the dimension of given array\n",
        "a.ndim"
      ],
      "metadata": {
        "colab": {
          "base_uri": "https://localhost:8080/"
        },
        "id": "Y7K7nyVEqgIz",
        "outputId": "b599f096-b4cf-4d06-e3f9-895e0d013960"
      },
      "execution_count": 13,
      "outputs": [
        {
          "output_type": "execute_result",
          "data": {
            "text/plain": [
              "1"
            ]
          },
          "metadata": {},
          "execution_count": 13
        }
      ]
    },
    {
      "cell_type": "code",
      "source": [
        "c"
      ],
      "metadata": {
        "colab": {
          "base_uri": "https://localhost:8080/"
        },
        "id": "UkdVFlzmyh_W",
        "outputId": "26903a8b-f675-469a-e0f6-9b10042055ff"
      },
      "execution_count": 14,
      "outputs": [
        {
          "output_type": "execute_result",
          "data": {
            "text/plain": [
              "array([[[0, 1],\n",
              "        [2, 3]],\n",
              "\n",
              "       [[4, 5],\n",
              "        [6, 7]]])"
            ]
          },
          "metadata": {},
          "execution_count": 14
        }
      ]
    },
    {
      "cell_type": "code",
      "source": [
        "# shape\n",
        "# hr dimension ma kitny  item ha"
      ],
      "metadata": {
        "id": "Aooh5FgeqgGQ"
      },
      "execution_count": 15,
      "outputs": []
    },
    {
      "cell_type": "code",
      "source": [
        "a.shape\n",
        "b.shape\n",
        "c.shape"
      ],
      "metadata": {
        "colab": {
          "base_uri": "https://localhost:8080/"
        },
        "id": "Aq3ocauZqgDP",
        "outputId": "4d157597-970e-4633-f71c-34b83db4ce37"
      },
      "execution_count": 16,
      "outputs": [
        {
          "output_type": "execute_result",
          "data": {
            "text/plain": [
              "(2, 2, 2)"
            ]
          },
          "metadata": {},
          "execution_count": 16
        }
      ]
    },
    {
      "cell_type": "code",
      "source": [
        "# size\n",
        "a.size\n",
        "c.size"
      ],
      "metadata": {
        "colab": {
          "base_uri": "https://localhost:8080/"
        },
        "id": "P5TmDYYZqgAI",
        "outputId": "0ab68e0f-ede2-437d-e009-9ec626cb6c4f"
      },
      "execution_count": 17,
      "outputs": [
        {
          "output_type": "execute_result",
          "data": {
            "text/plain": [
              "8"
            ]
          },
          "metadata": {},
          "execution_count": 17
        }
      ]
    },
    {
      "cell_type": "code",
      "source": [
        "#itemsize\n",
        "#hr item memory ma kitna size occupy kr rha ha\n",
        "#int32 4 byte leta ha or int64 jo by defulat hotaha ya 8 bytes leta ha\n",
        "a.itemsize"
      ],
      "metadata": {
        "colab": {
          "base_uri": "https://localhost:8080/"
        },
        "id": "NSl0Csquqf9N",
        "outputId": "853ce412-1ed1-4bc7-db75-82d3c4098d24"
      },
      "execution_count": 18,
      "outputs": [
        {
          "output_type": "execute_result",
          "data": {
            "text/plain": [
              "8"
            ]
          },
          "metadata": {},
          "execution_count": 18
        }
      ]
    },
    {
      "cell_type": "code",
      "source": [
        "#dtype\n",
        "#item ka data type btata ha\n",
        "a.dtype\n",
        "b.dtype"
      ],
      "metadata": {
        "colab": {
          "base_uri": "https://localhost:8080/"
        },
        "id": "_8Nl6zXiqf6s",
        "outputId": "dc2f7cd9-0075-4a07-cd9e-6d6116461819"
      },
      "execution_count": 19,
      "outputs": [
        {
          "output_type": "execute_result",
          "data": {
            "text/plain": [
              "dtype('float64')"
            ]
          },
          "metadata": {},
          "execution_count": 19
        }
      ]
    },
    {
      "cell_type": "code",
      "source": [
        "b"
      ],
      "metadata": {
        "id": "OapthYRJqf32",
        "colab": {
          "base_uri": "https://localhost:8080/"
        },
        "outputId": "c5a01917-f49a-4425-dbfb-ae6051b37f14"
      },
      "execution_count": 20,
      "outputs": [
        {
          "output_type": "execute_result",
          "data": {
            "text/plain": [
              "array([[ 0.,  1.,  2.,  3.],\n",
              "       [ 4.,  5.,  6.,  7.],\n",
              "       [ 8.,  9., 10., 11.]])"
            ]
          },
          "metadata": {},
          "execution_count": 20
        }
      ]
    },
    {
      "cell_type": "markdown",
      "source": [
        "###Changing Data type"
      ],
      "metadata": {
        "id": "paOIAtwtzrlc"
      }
    },
    {
      "cell_type": "code",
      "source": [
        "#astype\n",
        "a.dtype\n",
        "a.astype(np.int32)"
      ],
      "metadata": {
        "colab": {
          "base_uri": "https://localhost:8080/"
        },
        "id": "EhlrVGvNqf1U",
        "outputId": "964962ea-f32f-490f-eafb-b3296237fdfe"
      },
      "execution_count": 21,
      "outputs": [
        {
          "output_type": "execute_result",
          "data": {
            "text/plain": [
              "array([0, 1, 2, 3, 4, 5, 6, 7, 8, 9], dtype=int32)"
            ]
          },
          "metadata": {},
          "execution_count": 21
        }
      ]
    },
    {
      "cell_type": "markdown",
      "source": [
        "###Array opertaion's"
      ],
      "metadata": {
        "id": "cizZpWF20J9s"
      }
    },
    {
      "cell_type": "code",
      "source": [
        "a1=np.arange(12).reshape(3,4)\n",
        "a2=np.arange(12,24).reshape(3,4)"
      ],
      "metadata": {
        "id": "Yh6xzdxeqfy3"
      },
      "execution_count": 22,
      "outputs": []
    },
    {
      "cell_type": "code",
      "source": [
        "#Scalar operation\n",
        "# all arhitmetic operation work on it 2 is scalara and a1 is array\n",
        "a1*2"
      ],
      "metadata": {
        "colab": {
          "base_uri": "https://localhost:8080/"
        },
        "id": "wU7Sx5i9qfwx",
        "outputId": "ff9b47ec-8fce-4d7f-cc02-ee71a831b6b8"
      },
      "execution_count": 23,
      "outputs": [
        {
          "output_type": "execute_result",
          "data": {
            "text/plain": [
              "array([[ 0,  2,  4,  6],\n",
              "       [ 8, 10, 12, 14],\n",
              "       [16, 18, 20, 22]])"
            ]
          },
          "metadata": {},
          "execution_count": 23
        }
      ]
    },
    {
      "cell_type": "code",
      "source": [
        "#relational operator\n",
        "a1>5"
      ],
      "metadata": {
        "colab": {
          "base_uri": "https://localhost:8080/"
        },
        "id": "yS0SrIbzqftx",
        "outputId": "cae84aea-3021-473b-f990-8a704c071177"
      },
      "execution_count": 24,
      "outputs": [
        {
          "output_type": "execute_result",
          "data": {
            "text/plain": [
              "array([[False, False, False, False],\n",
              "       [False, False,  True,  True],\n",
              "       [ True,  True,  True,  True]])"
            ]
          },
          "metadata": {},
          "execution_count": 24
        }
      ]
    },
    {
      "cell_type": "code",
      "source": [
        "#vector operation\n",
        "# both are the aray\n",
        "a1*a2"
      ],
      "metadata": {
        "colab": {
          "base_uri": "https://localhost:8080/"
        },
        "id": "BEDNxIwVqfqw",
        "outputId": "da551992-9702-4896-ecb2-5e58d7d3baa7"
      },
      "execution_count": 25,
      "outputs": [
        {
          "output_type": "execute_result",
          "data": {
            "text/plain": [
              "array([[  0,  13,  28,  45],\n",
              "       [ 64,  85, 108, 133],\n",
              "       [160, 189, 220, 253]])"
            ]
          },
          "metadata": {},
          "execution_count": 25
        }
      ]
    },
    {
      "cell_type": "markdown",
      "source": [
        "###Array function"
      ],
      "metadata": {
        "id": "og3XXly51SLr"
      }
    },
    {
      "cell_type": "code",
      "source": [
        "a1=np.random.random((3,3))\n",
        "a1=np.round(a1*100)\n",
        "a1"
      ],
      "metadata": {
        "colab": {
          "base_uri": "https://localhost:8080/"
        },
        "id": "Z5qGcnTj1aZ3",
        "outputId": "ef2e39fb-65ba-4767-fe21-db1229081732"
      },
      "execution_count": 26,
      "outputs": [
        {
          "output_type": "execute_result",
          "data": {
            "text/plain": [
              "array([[65., 89., 60.],\n",
              "       [48., 47., 81.],\n",
              "       [13., 59., 76.]])"
            ]
          },
          "metadata": {},
          "execution_count": 26
        }
      ]
    },
    {
      "cell_type": "code",
      "source": [
        "#min/max/sum/prod\n",
        "a1.min()\n",
        "a1.sum()\n",
        "# hr row ka min item feth kro\n",
        "# 0--> column    and 1-->row\n",
        "a1.min(axis=1)\n",
        "a1.prod(axis=0)"
      ],
      "metadata": {
        "colab": {
          "base_uri": "https://localhost:8080/"
        },
        "id": "Gb936qjMqfnP",
        "outputId": "e0293cc1-6a55-46cd-be41-dcbff1af767a"
      },
      "execution_count": 27,
      "outputs": [
        {
          "output_type": "execute_result",
          "data": {
            "text/plain": [
              "array([ 40560., 246797., 369360.])"
            ]
          },
          "metadata": {},
          "execution_count": 27
        }
      ]
    },
    {
      "cell_type": "code",
      "source": [
        "#mean/median/mode\n",
        "a1.mean()\n",
        "a1.mean(axis=1)"
      ],
      "metadata": {
        "colab": {
          "base_uri": "https://localhost:8080/"
        },
        "id": "1Q2G2KpBqflC",
        "outputId": "c1b09777-0ff5-40c5-ab79-b380aba4b65e"
      },
      "execution_count": 28,
      "outputs": [
        {
          "output_type": "execute_result",
          "data": {
            "text/plain": [
              "array([71.33333333, 58.66666667, 49.33333333])"
            ]
          },
          "metadata": {},
          "execution_count": 28
        }
      ]
    },
    {
      "cell_type": "code",
      "source": [
        "# dot product\n",
        "# dot product ka phly waly ka row or dosry waly ka col math krna chay\n",
        "a2=np.arange(12).reshape(3,4)\n",
        "a3=np.arange(12,24).reshape(4,3)\n",
        "np.dot(a1,a2)"
      ],
      "metadata": {
        "colab": {
          "base_uri": "https://localhost:8080/"
        },
        "id": "IFWUrL1Kqfhy",
        "outputId": "970f6dfc-098c-4424-dd67-0626305b7b63"
      },
      "execution_count": 29,
      "outputs": [
        {
          "output_type": "execute_result",
          "data": {
            "text/plain": [
              "array([[ 836., 1050., 1264., 1478.],\n",
              "       [ 836., 1012., 1188., 1364.],\n",
              "       [ 844.,  992., 1140., 1288.]])"
            ]
          },
          "metadata": {},
          "execution_count": 29
        }
      ]
    },
    {
      "cell_type": "code",
      "source": [
        "# round/floor/cell\n",
        "np.round(np.random.random((2,3))*100)\n",
        "np.floor(np.random.random((2,3))*100)"
      ],
      "metadata": {
        "colab": {
          "base_uri": "https://localhost:8080/"
        },
        "id": "WihqvUpPqffi",
        "outputId": "f1ca017d-ff4c-49b3-ba4b-ac4c57a86c62"
      },
      "execution_count": 30,
      "outputs": [
        {
          "output_type": "execute_result",
          "data": {
            "text/plain": [
              "array([[43., 78., 23.],\n",
              "       [83., 95., 42.]])"
            ]
          },
          "metadata": {},
          "execution_count": 30
        }
      ]
    },
    {
      "cell_type": "markdown",
      "source": [
        "###indexing and slicing"
      ],
      "metadata": {
        "id": "DuCKUAwi5MQs"
      }
    },
    {
      "cell_type": "code",
      "source": [
        "a1=np.arange(10)\n",
        "a2=np.arange(12).reshape(3,4)\n",
        "a3=np.arange(8).reshape(2,2,2)"
      ],
      "metadata": {
        "id": "8hLpDJYxqfcL"
      },
      "execution_count": 31,
      "outputs": []
    },
    {
      "cell_type": "code",
      "source": [
        "a1"
      ],
      "metadata": {
        "colab": {
          "base_uri": "https://localhost:8080/"
        },
        "id": "BcA9l7UKqfaB",
        "outputId": "a9ea276d-b2dc-439f-b1b1-559bbbdd9daa"
      },
      "execution_count": 32,
      "outputs": [
        {
          "output_type": "execute_result",
          "data": {
            "text/plain": [
              "array([0, 1, 2, 3, 4, 5, 6, 7, 8, 9])"
            ]
          },
          "metadata": {},
          "execution_count": 32
        }
      ]
    },
    {
      "cell_type": "code",
      "source": [
        "a1[-1]\n",
        "a[5]"
      ],
      "metadata": {
        "colab": {
          "base_uri": "https://localhost:8080/"
        },
        "id": "xkA83Zl5qfXk",
        "outputId": "21e1b0df-39b7-487f-bbe3-1efac181fd37"
      },
      "execution_count": 33,
      "outputs": [
        {
          "output_type": "execute_result",
          "data": {
            "text/plain": [
              "np.int64(5)"
            ]
          },
          "metadata": {},
          "execution_count": 33
        }
      ]
    },
    {
      "cell_type": "code",
      "source": [
        "a2"
      ],
      "metadata": {
        "colab": {
          "base_uri": "https://localhost:8080/"
        },
        "id": "3KRHtFdMqfUe",
        "outputId": "a566514b-29d0-4b16-c07a-81377a588d90"
      },
      "execution_count": 34,
      "outputs": [
        {
          "output_type": "execute_result",
          "data": {
            "text/plain": [
              "array([[ 0,  1,  2,  3],\n",
              "       [ 4,  5,  6,  7],\n",
              "       [ 8,  9, 10, 11]])"
            ]
          },
          "metadata": {},
          "execution_count": 34
        }
      ]
    },
    {
      "cell_type": "code",
      "source": [
        "a2[1,2]  # 1st row then colimn\n",
        "a2[2,3]\n",
        "a2[1,3]\n",
        "a2[1,0]"
      ],
      "metadata": {
        "colab": {
          "base_uri": "https://localhost:8080/"
        },
        "id": "UfMq5SbuqfRU",
        "outputId": "5633c5aa-304c-4d06-9f36-73800aad5d4d"
      },
      "execution_count": 35,
      "outputs": [
        {
          "output_type": "execute_result",
          "data": {
            "text/plain": [
              "np.int64(4)"
            ]
          },
          "metadata": {},
          "execution_count": 35
        }
      ]
    },
    {
      "cell_type": "code",
      "source": [
        "a3"
      ],
      "metadata": {
        "colab": {
          "base_uri": "https://localhost:8080/"
        },
        "id": "FMmFEteuqfPO",
        "outputId": "f4a125df-e8ba-4dea-afb6-672bf1563268"
      },
      "execution_count": 36,
      "outputs": [
        {
          "output_type": "execute_result",
          "data": {
            "text/plain": [
              "array([[[0, 1],\n",
              "        [2, 3]],\n",
              "\n",
              "       [[4, 5],\n",
              "        [6, 7]]])"
            ]
          },
          "metadata": {},
          "execution_count": 36
        }
      ]
    },
    {
      "cell_type": "code",
      "source": [
        "a3[1,0,1]\n",
        "a3[0,1,1]\n",
        "a3[0,0,0]"
      ],
      "metadata": {
        "colab": {
          "base_uri": "https://localhost:8080/"
        },
        "id": "sqFqIGcg6wQZ",
        "outputId": "89848f5f-b2bd-4144-b017-33d799e2aa5a"
      },
      "execution_count": 37,
      "outputs": [
        {
          "output_type": "execute_result",
          "data": {
            "text/plain": [
              "np.int64(0)"
            ]
          },
          "metadata": {},
          "execution_count": 37
        }
      ]
    },
    {
      "cell_type": "code",
      "source": [
        "# indexing sa hm aik item ffetch kr rhy thy laken sliecning ko use kr ka hm multiple\n",
        "#item ko fetch kr skty h a"
      ],
      "metadata": {
        "id": "gpr2hB9M612Z"
      },
      "execution_count": 38,
      "outputs": []
    },
    {
      "cell_type": "code",
      "source": [
        "a1"
      ],
      "metadata": {
        "colab": {
          "base_uri": "https://localhost:8080/"
        },
        "id": "XtN1ja_V7TvC",
        "outputId": "26acc43c-53da-425b-a7a4-f4d6d0fa107f"
      },
      "execution_count": 39,
      "outputs": [
        {
          "output_type": "execute_result",
          "data": {
            "text/plain": [
              "array([0, 1, 2, 3, 4, 5, 6, 7, 8, 9])"
            ]
          },
          "metadata": {},
          "execution_count": 39
        }
      ]
    },
    {
      "cell_type": "code",
      "source": [
        "a1[2:6]\n",
        "a1[2:9:2]"
      ],
      "metadata": {
        "colab": {
          "base_uri": "https://localhost:8080/"
        },
        "id": "lVRSF6HO7TsG",
        "outputId": "e09ffaec-ad81-4298-e25e-5f17c8079fa7"
      },
      "execution_count": 40,
      "outputs": [
        {
          "output_type": "execute_result",
          "data": {
            "text/plain": [
              "array([2, 4, 6, 8])"
            ]
          },
          "metadata": {},
          "execution_count": 40
        }
      ]
    },
    {
      "cell_type": "code",
      "source": [
        "a2"
      ],
      "metadata": {
        "colab": {
          "base_uri": "https://localhost:8080/"
        },
        "id": "XHShI9pc7Too",
        "outputId": "9e22768c-2797-4daf-ad16-906d39b720ea"
      },
      "execution_count": 41,
      "outputs": [
        {
          "output_type": "execute_result",
          "data": {
            "text/plain": [
              "array([[ 0,  1,  2,  3],\n",
              "       [ 4,  5,  6,  7],\n",
              "       [ 8,  9, 10, 11]])"
            ]
          },
          "metadata": {},
          "execution_count": 41
        }
      ]
    },
    {
      "cell_type": "code",
      "source": [
        "a2[0,:]"
      ],
      "metadata": {
        "colab": {
          "base_uri": "https://localhost:8080/"
        },
        "id": "bQfKfxGq7TlR",
        "outputId": "e950ecc9-57ca-44d6-e94c-94688fabd3e8"
      },
      "execution_count": 42,
      "outputs": [
        {
          "output_type": "execute_result",
          "data": {
            "text/plain": [
              "array([0, 1, 2, 3])"
            ]
          },
          "metadata": {},
          "execution_count": 42
        }
      ]
    },
    {
      "cell_type": "code",
      "source": [
        "a2[0:,2]\n",
        "a2[1:,1:3]\n",
        "a2[0:2,0:2]\n",
        "a2[1:,0:4:3]\n",
        "a2[0::2,0::3]\n",
        "a2[0::2,1::2]\n",
        "a2[1:2,0::3]"
      ],
      "metadata": {
        "colab": {
          "base_uri": "https://localhost:8080/"
        },
        "id": "MRHM7U9o9MS5",
        "outputId": "9cf3d064-99b2-4812-8edc-0c98b8922bf6"
      },
      "execution_count": 43,
      "outputs": [
        {
          "output_type": "execute_result",
          "data": {
            "text/plain": [
              "array([[4, 7]])"
            ]
          },
          "metadata": {},
          "execution_count": 43
        }
      ]
    },
    {
      "cell_type": "code",
      "source": [
        "a3=np.arange(27).reshape(3,3,3)\n",
        "a3"
      ],
      "metadata": {
        "colab": {
          "base_uri": "https://localhost:8080/"
        },
        "id": "RNLCana89fcH",
        "outputId": "3997ec54-85a4-4956-dc63-dd607c753fcf"
      },
      "execution_count": 44,
      "outputs": [
        {
          "output_type": "execute_result",
          "data": {
            "text/plain": [
              "array([[[ 0,  1,  2],\n",
              "        [ 3,  4,  5],\n",
              "        [ 6,  7,  8]],\n",
              "\n",
              "       [[ 9, 10, 11],\n",
              "        [12, 13, 14],\n",
              "        [15, 16, 17]],\n",
              "\n",
              "       [[18, 19, 20],\n",
              "        [21, 22, 23],\n",
              "        [24, 25, 26]]])"
            ]
          },
          "metadata": {},
          "execution_count": 44
        }
      ]
    },
    {
      "cell_type": "code",
      "source": [
        "a3[1,0::,0::]\n",
        "a3[1]\n",
        "a3[0::2]\n",
        "a3[0::2,0,::2]"
      ],
      "metadata": {
        "colab": {
          "base_uri": "https://localhost:8080/"
        },
        "id": "lbCjnWtLAFvF",
        "outputId": "470472fe-7480-422d-ba67-4c53689cf28a"
      },
      "execution_count": 45,
      "outputs": [
        {
          "output_type": "execute_result",
          "data": {
            "text/plain": [
              "array([[ 0,  2],\n",
              "       [18, 20]])"
            ]
          },
          "metadata": {},
          "execution_count": 45
        }
      ]
    },
    {
      "cell_type": "code",
      "source": [
        "for i in a1:\n",
        "   print(i)"
      ],
      "metadata": {
        "colab": {
          "base_uri": "https://localhost:8080/"
        },
        "id": "1ijFJzjQAFsZ",
        "outputId": "20a33d14-83b0-46c9-8756-63a8f14fc60a"
      },
      "execution_count": 46,
      "outputs": [
        {
          "output_type": "stream",
          "name": "stdout",
          "text": [
            "0\n",
            "1\n",
            "2\n",
            "3\n",
            "4\n",
            "5\n",
            "6\n",
            "7\n",
            "8\n",
            "9\n"
          ]
        }
      ]
    },
    {
      "cell_type": "code",
      "source": [
        "for i in a2:\n",
        "   print(i)"
      ],
      "metadata": {
        "colab": {
          "base_uri": "https://localhost:8080/"
        },
        "id": "A80DIwWQAFpK",
        "outputId": "e6e63dd2-a28f-4cb2-b95b-7af7fdc15b66"
      },
      "execution_count": 47,
      "outputs": [
        {
          "output_type": "stream",
          "name": "stdout",
          "text": [
            "[0 1 2 3]\n",
            "[4 5 6 7]\n",
            "[ 8  9 10 11]\n"
          ]
        }
      ]
    },
    {
      "cell_type": "code",
      "source": [
        "for i in a3:\n",
        "   print(i)"
      ],
      "metadata": {
        "colab": {
          "base_uri": "https://localhost:8080/"
        },
        "id": "FJPN6LL-AFlq",
        "outputId": "7700ab24-1b46-4fc1-958e-177eb93a3d76"
      },
      "execution_count": 48,
      "outputs": [
        {
          "output_type": "stream",
          "name": "stdout",
          "text": [
            "[[0 1 2]\n",
            " [3 4 5]\n",
            " [6 7 8]]\n",
            "[[ 9 10 11]\n",
            " [12 13 14]\n",
            " [15 16 17]]\n",
            "[[18 19 20]\n",
            " [21 22 23]\n",
            " [24 25 26]]\n"
          ]
        }
      ]
    },
    {
      "cell_type": "code",
      "source": [
        "for i in np.nditer(a3):\n",
        "   print(i)"
      ],
      "metadata": {
        "colab": {
          "base_uri": "https://localhost:8080/"
        },
        "id": "K5oWL8veAFh8",
        "outputId": "c92fb4c4-760c-4c77-da2a-75b25658f744"
      },
      "execution_count": 49,
      "outputs": [
        {
          "output_type": "stream",
          "name": "stdout",
          "text": [
            "0\n",
            "1\n",
            "2\n",
            "3\n",
            "4\n",
            "5\n",
            "6\n",
            "7\n",
            "8\n",
            "9\n",
            "10\n",
            "11\n",
            "12\n",
            "13\n",
            "14\n",
            "15\n",
            "16\n",
            "17\n",
            "18\n",
            "19\n",
            "20\n",
            "21\n",
            "22\n",
            "23\n",
            "24\n",
            "25\n",
            "26\n"
          ]
        }
      ]
    },
    {
      "cell_type": "markdown",
      "source": [
        "###Reshaping"
      ],
      "metadata": {
        "id": "-6yfzZizIxfp"
      }
    },
    {
      "cell_type": "code",
      "source": [
        "#reshape"
      ],
      "metadata": {
        "id": "TLZgp1S-AFem"
      },
      "execution_count": 50,
      "outputs": []
    },
    {
      "cell_type": "code",
      "source": [
        "#transpose\n",
        "a2.transpose()"
      ],
      "metadata": {
        "colab": {
          "base_uri": "https://localhost:8080/"
        },
        "id": "5Gp6SERbI1PA",
        "outputId": "09f1d6c3-a80b-4a39-cdc1-e16b3846fb5f"
      },
      "execution_count": 51,
      "outputs": [
        {
          "output_type": "execute_result",
          "data": {
            "text/plain": [
              "array([[ 0,  4,  8],\n",
              "       [ 1,  5,  9],\n",
              "       [ 2,  6, 10],\n",
              "       [ 3,  7, 11]])"
            ]
          },
          "metadata": {},
          "execution_count": 51
        }
      ]
    },
    {
      "cell_type": "code",
      "source": [
        "a2"
      ],
      "metadata": {
        "colab": {
          "base_uri": "https://localhost:8080/"
        },
        "id": "PzC_cLRmJFXQ",
        "outputId": "14dfc8ae-f4b1-4389-98a6-680a8e6a9358"
      },
      "execution_count": 52,
      "outputs": [
        {
          "output_type": "execute_result",
          "data": {
            "text/plain": [
              "array([[ 0,  1,  2,  3],\n",
              "       [ 4,  5,  6,  7],\n",
              "       [ 8,  9, 10, 11]])"
            ]
          },
          "metadata": {},
          "execution_count": 52
        }
      ]
    },
    {
      "cell_type": "code",
      "source": [
        "#ravel\n",
        "# kitny bhe dimension ke array ko id ma convert kr deta ha\n",
        "a2.ravel()\n",
        "a3.ravel()"
      ],
      "metadata": {
        "colab": {
          "base_uri": "https://localhost:8080/"
        },
        "id": "ViZ1QErCI1La",
        "outputId": "0030953b-99f0-4838-e0b1-704e6600d660"
      },
      "execution_count": 53,
      "outputs": [
        {
          "output_type": "execute_result",
          "data": {
            "text/plain": [
              "array([ 0,  1,  2,  3,  4,  5,  6,  7,  8,  9, 10, 11, 12, 13, 14, 15, 16,\n",
              "       17, 18, 19, 20, 21, 22, 23, 24, 25, 26])"
            ]
          },
          "metadata": {},
          "execution_count": 53
        }
      ]
    },
    {
      "cell_type": "markdown",
      "source": [
        "###Stacking"
      ],
      "metadata": {
        "id": "2_Y3xmEJJbrT"
      }
    },
    {
      "cell_type": "code",
      "source": [
        "# horizontal stack\n",
        "\n",
        "# stack ka ly shape same hona zarori ha\n",
        "a4=np.arange(12).reshape(3,4)\n",
        "a5=np.arange(12,24).reshape(3,4)\n",
        "np.hstack((a4,a5))"
      ],
      "metadata": {
        "colab": {
          "base_uri": "https://localhost:8080/"
        },
        "id": "N-XxkVqKI1JB",
        "outputId": "b49a586e-989f-4d0e-9262-4296e7ba3583"
      },
      "execution_count": 54,
      "outputs": [
        {
          "output_type": "execute_result",
          "data": {
            "text/plain": [
              "array([[ 0,  1,  2,  3, 12, 13, 14, 15],\n",
              "       [ 4,  5,  6,  7, 16, 17, 18, 19],\n",
              "       [ 8,  9, 10, 11, 20, 21, 22, 23]])"
            ]
          },
          "metadata": {},
          "execution_count": 54
        }
      ]
    },
    {
      "cell_type": "code",
      "source": [
        "#vertical stacks\n",
        "np.vstack((a4,a5))"
      ],
      "metadata": {
        "colab": {
          "base_uri": "https://localhost:8080/"
        },
        "id": "otVeq7qVI1Gs",
        "outputId": "b8d01f09-b8b7-4509-d4ae-dd735a08208c"
      },
      "execution_count": 55,
      "outputs": [
        {
          "output_type": "execute_result",
          "data": {
            "text/plain": [
              "array([[ 0,  1,  2,  3],\n",
              "       [ 4,  5,  6,  7],\n",
              "       [ 8,  9, 10, 11],\n",
              "       [12, 13, 14, 15],\n",
              "       [16, 17, 18, 19],\n",
              "       [20, 21, 22, 23]])"
            ]
          },
          "metadata": {},
          "execution_count": 55
        }
      ]
    },
    {
      "cell_type": "markdown",
      "source": [
        "### spliting"
      ],
      "metadata": {
        "id": "HL65ENMNJmqm"
      }
    },
    {
      "cell_type": "code",
      "source": [
        "# it just opposite the stack"
      ],
      "metadata": {
        "id": "9AVyIiYtI1Da"
      },
      "execution_count": 56,
      "outputs": []
    },
    {
      "cell_type": "code",
      "source": [
        "np.hsplit(a4,2)"
      ],
      "metadata": {
        "colab": {
          "base_uri": "https://localhost:8080/"
        },
        "id": "0iW2WIXBJcOz",
        "outputId": "63ece2c4-1293-4390-de78-e8fa0172e366"
      },
      "execution_count": 57,
      "outputs": [
        {
          "output_type": "execute_result",
          "data": {
            "text/plain": [
              "[array([[0, 1],\n",
              "        [4, 5],\n",
              "        [8, 9]]),\n",
              " array([[ 2,  3],\n",
              "        [ 6,  7],\n",
              "        [10, 11]])]"
            ]
          },
          "metadata": {},
          "execution_count": 57
        }
      ]
    },
    {
      "cell_type": "code",
      "source": [
        "np.vsplit(a4,3)"
      ],
      "metadata": {
        "colab": {
          "base_uri": "https://localhost:8080/"
        },
        "id": "cOsk-kRxJdAq",
        "outputId": "49693416-d4ba-4028-e997-b6acbe26bf9b"
      },
      "execution_count": 58,
      "outputs": [
        {
          "output_type": "execute_result",
          "data": {
            "text/plain": [
              "[array([[0, 1, 2, 3]]), array([[4, 5, 6, 7]]), array([[ 8,  9, 10, 11]])]"
            ]
          },
          "metadata": {},
          "execution_count": 58
        }
      ]
    },
    {
      "cell_type": "code",
      "source": [],
      "metadata": {
        "id": "3o9DXeGuJc-p"
      },
      "execution_count": 58,
      "outputs": []
    },
    {
      "cell_type": "code",
      "source": [],
      "metadata": {
        "id": "3nXBbZ0GJc8A"
      },
      "execution_count": 58,
      "outputs": []
    },
    {
      "cell_type": "code",
      "source": [],
      "metadata": {
        "id": "OihgF-3uJc5H"
      },
      "execution_count": 58,
      "outputs": []
    },
    {
      "cell_type": "markdown",
      "source": [
        "### TASK'S"
      ],
      "metadata": {
        "id": "NOkJq9wRLj79"
      }
    },
    {
      "cell_type": "markdown",
      "source": [
        "###`Q-1` Create a null vector of size 10 but the fifth value which is 1.\n",
        "\n"
      ],
      "metadata": {
        "id": "mJr8uvQaMqsY"
      }
    },
    {
      "cell_type": "markdown",
      "source": [],
      "metadata": {
        "id": "-7OyV0tpMqpb"
      }
    },
    {
      "cell_type": "code",
      "source": [
        "a=np.zeros(10)\n",
        "a[4]=1\n",
        "a"
      ],
      "metadata": {
        "id": "u9BU7rEDLnTl",
        "colab": {
          "base_uri": "https://localhost:8080/"
        },
        "outputId": "79a9a84b-f0af-449f-acd2-7bbf941aaba8"
      },
      "execution_count": 62,
      "outputs": [
        {
          "output_type": "execute_result",
          "data": {
            "text/plain": [
              "array([0., 0., 0., 0., 1., 0., 0., 0., 0., 0.])"
            ]
          },
          "metadata": {},
          "execution_count": 62
        }
      ]
    },
    {
      "cell_type": "markdown",
      "source": [
        "###`Q-3`Write a function to create a 2d array with 1 on the border and 0 inside. Take 2-D array shape as (a,b) as parameter to function.\n",
        "\n",
        "Eg.-\n",
        "```\n",
        "[[1,1,1,1],\n",
        "[1,0,0,1],\n",
        "[1,0,0,1],\n",
        "[1,1,1,1]]\n",
        "```"
      ],
      "metadata": {
        "id": "DBy_A_tWMvg_"
      }
    },
    {
      "cell_type": "code",
      "source": [
        "# a=np.ones(16).reshape(4,4)\n",
        "# a[1:3,1:3]=0\n",
        "# a\n",
        "def function(par):\n",
        "  par[1:3,1:3]=0\n",
        "  print(a)\n"
      ],
      "metadata": {
        "id": "5DMxGxdsLn24"
      },
      "execution_count": 91,
      "outputs": []
    },
    {
      "cell_type": "code",
      "source": [
        "par=np.ones(16).reshape(4,4)\n",
        "function(par)"
      ],
      "metadata": {
        "colab": {
          "base_uri": "https://localhost:8080/"
        },
        "id": "O4Xe9dt1XJkn",
        "outputId": "b7b68fc8-c627-4a4c-f630-dd4e4f97e081"
      },
      "execution_count": 90,
      "outputs": [
        {
          "output_type": "stream",
          "name": "stdout",
          "text": [
            "[[1. 1. 1. 1.]\n",
            " [1. 0. 0. 1.]\n",
            " [1. 0. 0. 1.]\n",
            " [1. 1. 1. 1.]]\n"
          ]
        }
      ]
    },
    {
      "cell_type": "markdown",
      "source": [
        "###`Q-2` Ask user to input two numbers a, b. Write a program to generate a random array of shape (a, b) and print the array and avg of the array."
      ],
      "metadata": {
        "id": "uV7xjbx3MxDJ"
      }
    },
    {
      "cell_type": "code",
      "source": [
        "a=int(input(\"enter the first number\"))\n",
        "b=int(input(\"enter the second number\"))\n",
        "c=np.random.random((a,b))\n",
        "print(c)\n",
        "print(c.mean())"
      ],
      "metadata": {
        "id": "-wyZ3iZlLn0N",
        "colab": {
          "base_uri": "https://localhost:8080/"
        },
        "outputId": "7113ad34-578b-4ae7-bfab-e984d7243bf5"
      },
      "execution_count": 110,
      "outputs": [
        {
          "output_type": "stream",
          "name": "stdout",
          "text": [
            "enter the first number3\n",
            "enter the second number3\n",
            "[[0.065464   0.12062418 0.38797346]\n",
            " [0.09097133 0.98227776 0.39904427]\n",
            " [0.19231269 0.13401228 0.55016719]]\n",
            "0.3247607960202711\n"
          ]
        }
      ]
    },
    {
      "cell_type": "markdown",
      "source": [
        "###`Q-4` Create a vector of size 10 with values ranging from 0 to 1, both excluded.\n"
      ],
      "metadata": {
        "id": "9FbUEeHtM1hY"
      }
    },
    {
      "cell_type": "code",
      "source": [
        "np.linspace(0,1,10,endpoint=False)"
      ],
      "metadata": {
        "id": "jB3_OhY2Lnxn",
        "colab": {
          "base_uri": "https://localhost:8080/"
        },
        "outputId": "edd97355-9962-4f03-f9f2-7663e86e3515"
      },
      "execution_count": 125,
      "outputs": [
        {
          "output_type": "execute_result",
          "data": {
            "text/plain": [
              "array([0. , 0.1, 0.2, 0.3, 0.4, 0.5, 0.6, 0.7, 0.8, 0.9])"
            ]
          },
          "metadata": {},
          "execution_count": 125
        }
      ]
    },
    {
      "cell_type": "markdown",
      "source": [
        "###`Q-5` Can you create a identity mattrix of shape (3,4). If yes write code for it.\n"
      ],
      "metadata": {
        "id": "M0PX_o1lM6re"
      }
    },
    {
      "cell_type": "code",
      "source": [
        "a=np.arange(0,12).reshape(3,4)\n",
        "np.identity(4)"
      ],
      "metadata": {
        "id": "YRG61o0NLnuj",
        "colab": {
          "base_uri": "https://localhost:8080/"
        },
        "outputId": "c3c95020-c5ef-4a4a-9b29-31c53867b0e9"
      },
      "execution_count": 100,
      "outputs": [
        {
          "output_type": "execute_result",
          "data": {
            "text/plain": [
              "array([[1., 0., 0., 0.],\n",
              "       [0., 1., 0., 0.],\n",
              "       [0., 0., 1., 0.],\n",
              "       [0., 0., 0., 1.]])"
            ]
          },
          "metadata": {},
          "execution_count": 100
        }
      ]
    },
    {
      "cell_type": "markdown",
      "source": [
        "###`Q-6:` Create a 5x5 matrix with row values ranging from 0 to 4."
      ],
      "metadata": {
        "id": "2yyh2UESM9cl"
      }
    },
    {
      "cell_type": "code",
      "source": [
        "np.linspace(0,4,25,dtype=int).reshape(5,5)"
      ],
      "metadata": {
        "id": "hZ6s3PxTLnrf",
        "colab": {
          "base_uri": "https://localhost:8080/"
        },
        "outputId": "4af4fcb1-a79c-437d-9597-b87eb3c45049"
      },
      "execution_count": 134,
      "outputs": [
        {
          "output_type": "execute_result",
          "data": {
            "text/plain": [
              "array([[0, 0, 0, 0, 0],\n",
              "       [0, 1, 1, 1, 1],\n",
              "       [1, 1, 2, 2, 2],\n",
              "       [2, 2, 2, 3, 3],\n",
              "       [3, 3, 3, 3, 4]])"
            ]
          },
          "metadata": {},
          "execution_count": 134
        }
      ]
    },
    {
      "cell_type": "code",
      "source": [],
      "metadata": {
        "id": "oCqtZQXhLnm8"
      },
      "execution_count": 58,
      "outputs": []
    },
    {
      "cell_type": "markdown",
      "source": [
        "###`Q-7:`  Consider a random integer (in range 1 to 100) vector with shape `(10,2)` representing coordinates, and coordinates of a point as array is given. Create an array of distance of each point in the random vectros from the given point. Distance array should be interger type.\n",
        "\n",
        "```\n",
        "point = np.array([2,3])\n",
        "```\n"
      ],
      "metadata": {
        "id": "bFQD9TlnNA18"
      }
    },
    {
      "cell_type": "code",
      "source": [],
      "metadata": {
        "id": "QZXxW3iKLnii"
      },
      "execution_count": 58,
      "outputs": []
    },
    {
      "cell_type": "markdown",
      "source": [
        "### `Q-9:` Arrays\n",
        "\n",
        "You are given a space separated list of numbers. Your task is to print a reversed NumPy array with the element type float.\n",
        "\n"
      ],
      "metadata": {
        "id": "6dAW9WB-NC36"
      }
    },
    {
      "cell_type": "code",
      "source": [],
      "metadata": {
        "id": "fuefvY-nLngG"
      },
      "execution_count": 58,
      "outputs": []
    },
    {
      "cell_type": "markdown",
      "source": [
        "**Input Format:**\n",
        "\n",
        "A single line of input containing space separated numbers.\n",
        "\n",
        "**Output Format:**\n",
        "\n",
        "Print the reverse NumPy array with type float.\n",
        "\n",
        "**Example 1:**\n",
        "\n",
        "Input:\n",
        "\n",
        "```bash\n",
        "1 2 3 4 -8 -10\n",
        "```\n",
        "\n",
        "Output:\n",
        "\n",
        "```bash\n",
        "[-10.  -8.   4.   3.   2.   1.]\n",
        "```"
      ],
      "metadata": {
        "id": "m74dot5_NGXe"
      }
    },
    {
      "cell_type": "code",
      "source": [],
      "metadata": {
        "id": "WbKmXH3wNHwk"
      },
      "execution_count": 58,
      "outputs": []
    },
    {
      "cell_type": "markdown",
      "source": [
        "**Example 1:**\n",
        "\n",
        "Input:\n",
        "```bash\n",
        "np.array([])\n",
        "```\n",
        "\n",
        "Output:\n",
        "```bash\n",
        "elements_count :  0\n",
        "```\n",
        "\n",
        "**Example 2:**\n",
        "\n",
        "Input:\n",
        "```bash\n",
        "np.array([1, 2])\n",
        "```\n",
        "\n",
        "Output:\n",
        "```bash\n",
        "elements_count :  2\n",
        "```"
      ],
      "metadata": {
        "id": "wU4Fo57ONLi8"
      }
    },
    {
      "cell_type": "code",
      "source": [
        "a=np.array([23,34,56,7,889,])\n",
        "a\n",
        "print(\"elemnt count is \",a.size)"
      ],
      "metadata": {
        "colab": {
          "base_uri": "https://localhost:8080/"
        },
        "id": "cqIyrlx9rWG0",
        "outputId": "537601cd-584f-42d3-d973-1068a7d41b3b"
      },
      "execution_count": 140,
      "outputs": [
        {
          "output_type": "stream",
          "name": "stdout",
          "text": [
            "elemnt count is  5\n"
          ]
        }
      ]
    },
    {
      "cell_type": "code",
      "source": [],
      "metadata": {
        "id": "OeVU06ZIrWDw"
      },
      "execution_count": null,
      "outputs": []
    },
    {
      "cell_type": "code",
      "source": [],
      "metadata": {
        "id": "3hd5YGAxrV8l"
      },
      "execution_count": null,
      "outputs": []
    },
    {
      "cell_type": "markdown",
      "source": [
        "### `Q-11:` Softmax function\n",
        "\n",
        "Create a Python function to calculate the Softmax of the given numpy 1D array. The function only accepts the numpy 1D array, otherwise raise error.\n",
        "\n",
        "$$\\Large \\sigma(\\vec z)_i = \\frac{e^{z_i}}{\\sum_{j=i}^{K}{e^{z_j}}}$$\n",
        "\n",
        "https://en.wikipedia.org/wiki/Softmax_function\n",
        "\n"
      ],
      "metadata": {
        "id": "IOeroocgNTRT"
      }
    },
    {
      "cell_type": "code",
      "source": [],
      "metadata": {
        "id": "6vGfOpEbNHtu"
      },
      "execution_count": 58,
      "outputs": []
    },
    {
      "cell_type": "markdown",
      "source": [
        "### `Q-12:` Vertical stack\n",
        "\n",
        "Write a python function that accepts infinite number of numpy arrays and do the vertical stack to them. Then return that new array as result. The function only accepts the numpy array, otherwise raise error.\n",
        "\n"
      ],
      "metadata": {
        "id": "6Cz5v4VFNWXC"
      }
    },
    {
      "cell_type": "markdown",
      "source": [
        "**Example 1:**\n",
        "\n",
        "Input:\n",
        "```bash\n",
        "a= [[0 1 2 3 4]\n",
        " [5 6 7 8 9]]\n",
        "\n",
        "b= [[1 1 1 1 1]\n",
        " [1 1 1 1 1]]\n",
        "```\n",
        "\n",
        "Output:\n",
        "\n",
        "```bash\n",
        "[[0 1 2 3 4]\n",
        " [5 6 7 8 9]\n",
        " [1 1 1 1 1]\n",
        " [1 1 1 1 1]]\n",
        "```\n",
        "\n",
        "**Example 2:**\n",
        "\n",
        "Input:\n",
        "```bash\n",
        "a= [[0 1 2 3 4]\n",
        " [5 6 7 8 9]]\n",
        "\n",
        "b= [[1 1 1 1 1]\n",
        " [1 1 1 1 1]]\n",
        "\n",
        "c= [[0.10117373 0.1677244  0.73764059 0.83166097 0.48985695]\n",
        " [0.44581567 0.13502419 0.55692335 0.16479622 0.61193593]]\n",
        "```\n",
        "\n",
        "Output:\n",
        "```bash\n",
        "[[0.         1.         2.         3.         4.        ]\n",
        " [5.         6.         7.         8.         9.        ]\n",
        " [1.         1.         1.         1.         1.        ]\n",
        " [1.         1.         1.         1.         1.        ]\n",
        " [0.10117373 0.1677244  0.73764059 0.83166097 0.48985695]\n",
        " [0.44581567 0.13502419 0.55692335 0.16479622 0.61193593]]\n",
        "```"
      ],
      "metadata": {
        "id": "FwKebVRrNhwR"
      }
    },
    {
      "cell_type": "code",
      "source": [
        "def vst(srr1,srr2):\n",
        "  print(srr1)\n",
        "  print(srr2)\n",
        "  b=np.vstack((srr1,srr2))\n",
        "  return b\n"
      ],
      "metadata": {
        "id": "jfM5li6CNHqz"
      },
      "execution_count": 152,
      "outputs": []
    },
    {
      "cell_type": "code",
      "source": [
        "arr1=np.arange(120).reshape(10,12)\n",
        "arr2=np.arange(120,240).reshape(10,12)\n",
        "vst(arr1,arr2)"
      ],
      "metadata": {
        "colab": {
          "base_uri": "https://localhost:8080/"
        },
        "id": "GU86fBH3uYeb",
        "outputId": "6828e345-0f62-4418-c693-07647a980d65"
      },
      "execution_count": 153,
      "outputs": [
        {
          "output_type": "stream",
          "name": "stdout",
          "text": [
            "[[  0   1   2   3   4   5   6   7   8   9  10  11]\n",
            " [ 12  13  14  15  16  17  18  19  20  21  22  23]\n",
            " [ 24  25  26  27  28  29  30  31  32  33  34  35]\n",
            " [ 36  37  38  39  40  41  42  43  44  45  46  47]\n",
            " [ 48  49  50  51  52  53  54  55  56  57  58  59]\n",
            " [ 60  61  62  63  64  65  66  67  68  69  70  71]\n",
            " [ 72  73  74  75  76  77  78  79  80  81  82  83]\n",
            " [ 84  85  86  87  88  89  90  91  92  93  94  95]\n",
            " [ 96  97  98  99 100 101 102 103 104 105 106 107]\n",
            " [108 109 110 111 112 113 114 115 116 117 118 119]]\n",
            "[[120 121 122 123 124 125 126 127 128 129 130 131]\n",
            " [132 133 134 135 136 137 138 139 140 141 142 143]\n",
            " [144 145 146 147 148 149 150 151 152 153 154 155]\n",
            " [156 157 158 159 160 161 162 163 164 165 166 167]\n",
            " [168 169 170 171 172 173 174 175 176 177 178 179]\n",
            " [180 181 182 183 184 185 186 187 188 189 190 191]\n",
            " [192 193 194 195 196 197 198 199 200 201 202 203]\n",
            " [204 205 206 207 208 209 210 211 212 213 214 215]\n",
            " [216 217 218 219 220 221 222 223 224 225 226 227]\n",
            " [228 229 230 231 232 233 234 235 236 237 238 239]]\n"
          ]
        },
        {
          "output_type": "execute_result",
          "data": {
            "text/plain": [
              "array([[  0,   1,   2,   3,   4,   5,   6,   7,   8,   9,  10,  11],\n",
              "       [ 12,  13,  14,  15,  16,  17,  18,  19,  20,  21,  22,  23],\n",
              "       [ 24,  25,  26,  27,  28,  29,  30,  31,  32,  33,  34,  35],\n",
              "       [ 36,  37,  38,  39,  40,  41,  42,  43,  44,  45,  46,  47],\n",
              "       [ 48,  49,  50,  51,  52,  53,  54,  55,  56,  57,  58,  59],\n",
              "       [ 60,  61,  62,  63,  64,  65,  66,  67,  68,  69,  70,  71],\n",
              "       [ 72,  73,  74,  75,  76,  77,  78,  79,  80,  81,  82,  83],\n",
              "       [ 84,  85,  86,  87,  88,  89,  90,  91,  92,  93,  94,  95],\n",
              "       [ 96,  97,  98,  99, 100, 101, 102, 103, 104, 105, 106, 107],\n",
              "       [108, 109, 110, 111, 112, 113, 114, 115, 116, 117, 118, 119],\n",
              "       [120, 121, 122, 123, 124, 125, 126, 127, 128, 129, 130, 131],\n",
              "       [132, 133, 134, 135, 136, 137, 138, 139, 140, 141, 142, 143],\n",
              "       [144, 145, 146, 147, 148, 149, 150, 151, 152, 153, 154, 155],\n",
              "       [156, 157, 158, 159, 160, 161, 162, 163, 164, 165, 166, 167],\n",
              "       [168, 169, 170, 171, 172, 173, 174, 175, 176, 177, 178, 179],\n",
              "       [180, 181, 182, 183, 184, 185, 186, 187, 188, 189, 190, 191],\n",
              "       [192, 193, 194, 195, 196, 197, 198, 199, 200, 201, 202, 203],\n",
              "       [204, 205, 206, 207, 208, 209, 210, 211, 212, 213, 214, 215],\n",
              "       [216, 217, 218, 219, 220, 221, 222, 223, 224, 225, 226, 227],\n",
              "       [228, 229, 230, 231, 232, 233, 234, 235, 236, 237, 238, 239]])"
            ]
          },
          "metadata": {},
          "execution_count": 153
        }
      ]
    },
    {
      "cell_type": "markdown",
      "source": [
        "### `Q-13:` Dates\n",
        "\n",
        "Create a python function named **date_array** that accepts two dates as string format and returns a numpy array of dates between those 2 dates. The function only accept 2 strings, otherwise raise error. The date format should be like this only: `2022-12-6`. The end date should be included and for simplicity, choose dates from a same year.\n",
        "\n"
      ],
      "metadata": {
        "id": "vbv03se4NZ20"
      }
    },
    {
      "cell_type": "markdown",
      "source": [
        "**Example 1:**\n",
        "\n",
        "Input:\n",
        "```bash\n",
        "date_array(start = '2020-09-15', end = '2020-09-25')\n",
        "```\n",
        "\n",
        "Output:\n",
        "```bash\n",
        "['2020-09-15', '2020-09-16', '2020-09-17', '2020-09-18',\n",
        " '2020-09-19', '2020-09-20', '2020-09-21', '2020-09-22',\n",
        " '2020-09-23', '2020-09-24', '2020-09-25']\n",
        "```\n",
        "\n",
        "**Example 2:**\n",
        "\n",
        "Input:\n",
        "```bash\n",
        "date_array(start = '2022-12-01', end = '2022-12-06')\n",
        "```\n",
        "\n",
        "Output:\n",
        "```bash\n",
        "['2022-12-01', '2022-12-02', '2022-12-03', '2022-12-04', '2022-12-05', '2022-12-06']\n",
        "```\n",
        "\n",
        "**Example 3:**\n",
        "\n",
        "Input:\n",
        "```bash\n",
        "date_array(start = '2020-11-25', end = '2020-11-30')\n",
        "```\n",
        "\n",
        "Output:\n",
        "```bash\n",
        "['2020-11-25', '2020-11-26', '2020-11-27', '2020-11-28',\n",
        " '2020-11-29', '2020-11-30']\n",
        "```"
      ],
      "metadata": {
        "id": "rYmshO6INdDz"
      }
    },
    {
      "cell_type": "code",
      "source": [],
      "metadata": {
        "id": "q54IDmtDNlUu"
      },
      "execution_count": 58,
      "outputs": []
    },
    {
      "cell_type": "code",
      "source": [],
      "metadata": {
        "id": "boGgLYD-NlSd"
      },
      "execution_count": 58,
      "outputs": []
    },
    {
      "cell_type": "markdown",
      "source": [
        "###`Q-14:` Subtract the mean of each row from a matrix."
      ],
      "metadata": {
        "id": "doPxy1MqNmR_"
      }
    },
    {
      "cell_type": "code",
      "source": [],
      "metadata": {
        "id": "ctO_A93WNlP-"
      },
      "execution_count": 58,
      "outputs": []
    },
    {
      "cell_type": "markdown",
      "source": [
        "###`Q-15:` Swap column-1 of array with column-2 in the array."
      ],
      "metadata": {
        "id": "v00ArxnPNsEK"
      }
    },
    {
      "cell_type": "code",
      "source": [],
      "metadata": {
        "id": "a5IC3IyZNlFp"
      },
      "execution_count": 58,
      "outputs": []
    },
    {
      "cell_type": "markdown",
      "source": [
        "###`Q-16:` Replace odd elements in arrays with -1."
      ],
      "metadata": {
        "id": "v-TjkcmRNuZq"
      }
    },
    {
      "cell_type": "code",
      "source": [],
      "metadata": {
        "id": "9wpZI6pdLnc-"
      },
      "execution_count": 58,
      "outputs": []
    },
    {
      "cell_type": "markdown",
      "source": [
        "###`Q-17:` Given two arrays of same shape make an array of max out of two arrays. (Numpy way)\n",
        "```\n",
        "a=np.array([6,3,1,5,8])\n",
        "b=np.array([3,2,1,7,2])\n",
        "\n",
        "Result-> [6 3 1 7 8]\n",
        "```"
      ],
      "metadata": {
        "id": "F0bdCoWPNw3n"
      }
    },
    {
      "cell_type": "code",
      "source": [],
      "metadata": {
        "id": "okSjQhLMLnZv"
      },
      "execution_count": 58,
      "outputs": []
    },
    {
      "cell_type": "markdown",
      "source": [
        "###`Q-18` Answer below asked questions on given array:\n",
        "1. Fetch Every alternate column of the array\n",
        "2. Normalise the given array\n",
        "\n",
        "https://en.wikipedia.org/wiki/Normalization_(statistics)\n",
        "\n",
        "There are different form of normalisation for this question use below formula.\n",
        "\n",
        "$$\\large X_{normalized} = \\frac{X - X_{min}}{X_{max} - X_{min}}$$\n",
        "\n",
        "```python\n",
        "arr1=np.random.randint(low=1, high=10000, size=40).reshape(8,5)\n",
        "```\n"
      ],
      "metadata": {
        "id": "5FGrDcO_N0OO"
      }
    },
    {
      "cell_type": "code",
      "source": [
        "# Given\n",
        "arr1=np.random.randint(low=1, high=10000, size=40).reshape(8,5)\n",
        "arr1"
      ],
      "metadata": {
        "id": "aASdjdOqNyHs",
        "colab": {
          "base_uri": "https://localhost:8080/"
        },
        "outputId": "029ef374-aafe-47b4-cd20-f0e1846b9cbc"
      },
      "execution_count": 59,
      "outputs": [
        {
          "output_type": "execute_result",
          "data": {
            "text/plain": [
              "array([[ 936,  916, 7086, 7829, 7485],\n",
              "       [5197, 8660, 1621, 9540, 5804],\n",
              "       [7406, 1582,  683, 8826, 5543],\n",
              "       [1539, 3304,  506, 7302, 9228],\n",
              "       [4968, 6065,  505,  135, 1218],\n",
              "       [9601, 1157, 2039, 1409, 2930],\n",
              "       [1275,  867, 8632, 6108, 9906],\n",
              "       [1681, 9057, 4416, 1608, 3564]])"
            ]
          },
          "metadata": {},
          "execution_count": 59
        }
      ]
    },
    {
      "cell_type": "code",
      "source": [],
      "metadata": {
        "id": "hVyTf3_PNyFU"
      },
      "execution_count": 59,
      "outputs": []
    },
    {
      "cell_type": "markdown",
      "source": [
        "###`Q-19:` Write a function which will accept 2 arguments.\n",
        "First: A 1D numpy array arr\n",
        "\n",
        "Second: An integer n {Please make sure n<=len(arr)}\n",
        "\n",
        "Output: The output should be the nth largest item out of the array\n",
        "```\n",
        "# Example1 : arr=(12,34,40,7,1,0) and n=3, the output should be 12\n",
        "# Example2 : arr=(12,34,40,7,1,0) and n=1, the output should be 40\n",
        "```"
      ],
      "metadata": {
        "id": "unTXvRvrN-Bg"
      }
    },
    {
      "cell_type": "code",
      "source": [],
      "metadata": {
        "id": "BVTM7jDENyCn"
      },
      "execution_count": 59,
      "outputs": []
    },
    {
      "cell_type": "markdown",
      "source": [
        "###`Q-20:` Create the following pattern without hardcoding. Use only numpy functions and the below input array a.\n",
        "```\n",
        "# Input: a = np.array([1,2,3])\n",
        "# Output: array([1, 1, 1, 2, 2, 2, 3, 3, 3, 1, 2, 3, 1, 2, 3, 1, 2, 3])\n",
        "```"
      ],
      "metadata": {
        "id": "CmPuKQu6OBN-"
      }
    },
    {
      "cell_type": "code",
      "source": [
        "a=np.array([1,2,3])\n",
        "np.repeat(a,3)"
      ],
      "metadata": {
        "id": "jzSm88O9Nx_Y",
        "colab": {
          "base_uri": "https://localhost:8080/"
        },
        "outputId": "38de1704-53bb-47bc-b4c7-149dd6649499"
      },
      "execution_count": 178,
      "outputs": [
        {
          "output_type": "execute_result",
          "data": {
            "text/plain": [
              "array([1, 1, 1, 2, 2, 2, 3, 3, 3])"
            ]
          },
          "metadata": {},
          "execution_count": 178
        }
      ]
    },
    {
      "cell_type": "code",
      "source": [
        "import numpy as np\n",
        "# np.repeat(3, 4)\n",
        "x = np.array([[1,2,3,4],[5,6,7,8]])\n",
        "np.repeat(x, 4)\n",
        "# np.repeat(x, 3, axis=1)\n",
        "# np.repeat(x, [1, 2], axis=0)"
      ],
      "metadata": {
        "colab": {
          "base_uri": "https://localhost:8080/"
        },
        "id": "mGZGSnAqvrk2",
        "outputId": "c83a9517-a12c-49e6-daed-88e5e3c87bc5"
      },
      "execution_count": 167,
      "outputs": [
        {
          "output_type": "execute_result",
          "data": {
            "text/plain": [
              "array([1, 1, 1, 1, 2, 2, 2, 2, 3, 3, 3, 3, 4, 4, 4, 4, 5, 5, 5, 5, 6, 6,\n",
              "       6, 6, 7, 7, 7, 7, 8, 8, 8, 8])"
            ]
          },
          "metadata": {},
          "execution_count": 167
        }
      ]
    },
    {
      "cell_type": "code",
      "source": [],
      "metadata": {
        "id": "Wne4-lozxJmp"
      },
      "execution_count": null,
      "outputs": []
    }
  ]
}